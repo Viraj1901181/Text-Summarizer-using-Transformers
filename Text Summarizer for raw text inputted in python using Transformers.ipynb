{
 "cells": [
  {
   "cell_type": "code",
   "execution_count": 1,
   "metadata": {},
   "outputs": [],
   "source": [
    "from transformers import pipeline"
   ]
  },
  {
   "cell_type": "code",
   "execution_count": 2,
   "metadata": {},
   "outputs": [],
   "source": [
    "summarization = pipeline(\"summarization\")"
   ]
  },
  {
   "cell_type": "code",
   "execution_count": 3,
   "metadata": {},
   "outputs": [],
   "source": [
    "import nltk\n",
    "import pandas as pd\n",
    "import PyPDF2\n",
    "import tabula\n",
    "import textract\n",
    "import warnings\n",
    "warnings.filterwarnings(\"ignore\",category=DeprecationWarning)"
   ]
  },
  {
   "cell_type": "code",
   "execution_count": 4,
   "metadata": {},
   "outputs": [
    {
     "ename": "FileNotFoundError",
     "evalue": "[Errno 2] No such file or directory: '/content/Witness Statement Pack.pdf'",
     "output_type": "error",
     "traceback": [
      "\u001b[1;31m---------------------------------------------------------------------------\u001b[0m",
      "\u001b[1;31mFileNotFoundError\u001b[0m                         Traceback (most recent call last)",
      "\u001b[1;32m<ipython-input-4-ec2c5f9edd1e>\u001b[0m in \u001b[0;36m<module>\u001b[1;34m\u001b[0m\n\u001b[1;32m----> 1\u001b[1;33m \u001b[0mopen_filename_WS\u001b[0m \u001b[1;33m=\u001b[0m \u001b[0mopen\u001b[0m\u001b[1;33m(\u001b[0m\u001b[1;34m\"/content/Witness Statement Pack.pdf\"\u001b[0m\u001b[1;33m,\u001b[0m \u001b[1;34m'rb'\u001b[0m\u001b[1;33m)\u001b[0m\u001b[1;33m\u001b[0m\u001b[1;33m\u001b[0m\u001b[0m\n\u001b[0m\u001b[0;32m      2\u001b[0m \u001b[1;31m#open_filename_DB = open(r\"/content/Digital Bundle.pdf\", 'rb')\u001b[0m\u001b[1;33m\u001b[0m\u001b[1;33m\u001b[0m\u001b[1;33m\u001b[0m\u001b[0m\n\u001b[0;32m      3\u001b[0m \u001b[1;31m#open_filename_ET = open(\"/content/ET unmarked.pdf\", 'rb')\u001b[0m\u001b[1;33m\u001b[0m\u001b[1;33m\u001b[0m\u001b[1;33m\u001b[0m\u001b[0m\n\u001b[0;32m      4\u001b[0m \u001b[1;33m\u001b[0m\u001b[0m\n\u001b[0;32m      5\u001b[0m \u001b[0mWS\u001b[0m \u001b[1;33m=\u001b[0m \u001b[0mPyPDF2\u001b[0m\u001b[1;33m.\u001b[0m\u001b[0mPdfFileReader\u001b[0m\u001b[1;33m(\u001b[0m\u001b[0mopen_filename_WS\u001b[0m\u001b[1;33m)\u001b[0m\u001b[1;33m\u001b[0m\u001b[1;33m\u001b[0m\u001b[0m\n",
      "\u001b[1;31mFileNotFoundError\u001b[0m: [Errno 2] No such file or directory: '/content/Witness Statement Pack.pdf'"
     ]
    }
   ],
   "source": [
    "open_filename_WS = open(\"C:/Users/Asus/Desktop/DS Projects/QA/Witness Statement Pack.pdf\", 'rb')\n",
    "#open_filename_DB = open(r\"/content/Digital Bundle.pdf\", 'rb')\n",
    "#open_filename_ET = open(\"/content/ET unmarked.pdf\", 'rb')\n",
    "\n",
    "WS = PyPDF2.PdfFileReader(open_filename_WS)\n",
    "\n",
    "#DB = PyPDF2.PdfFileReader(open_filename_DB)\n",
    "#ET = PyPDF2.PdfFileReader(open_filename_ET)\n",
    "#print (open_filename)"
   ]
  },
  {
   "cell_type": "code",
   "execution_count": 6,
   "metadata": {},
   "outputs": [],
   "source": [
    "original_text=\"\"\"Thank you for appearing on my computer’s screen today. I was surfing the Internet dreaming about something, about my wishes. And finally, I saw you. I don`t know how often you come to this site, so I decided to write to\n",
    "you immediately. I was afraid of losing your profile in the network lines. So, as you see, I keep any chance that destiny gave me. Maybe you would like me to tell you something about myself to give you a more clear picture of my life.My friend calls me a frog-traveler\n",
    "Because of my work, I have visited many countries🇪🇺. Try to guess, have I been to your country also? Actually, as Ukrainian fairy-tales tell us, lady-frog needs a prince to become a princess. But my dream is to find a man with a big heart.Maybe we will\n",
    "exchange the Amour arrows in our life soon) Are you a shooter of women`s heart? Is it possible that destiny is smiling to me and your heart is free? Hope to hear an only satisfactory response to my last question\n",
    "What kind woman are you looking for? I wish curvy women are to your tastes: In this case, I would have more chances to get to know you better\"\"\""
   ]
  },
  {
   "cell_type": "code",
   "execution_count": 7,
   "metadata": {},
   "outputs": [],
   "source": [
    "summary_text = summarization(original_text)[0]['summary_text']"
   ]
  },
  {
   "cell_type": "code",
   "execution_count": 8,
   "metadata": {},
   "outputs": [
    {
     "name": "stdout",
     "output_type": "stream",
     "text": [
      " Ukrainian fairy-tales tell us, lady-frog needs a prince to become a princess . My dream is to find a man with a big heart. I wish curvy women are to your tastes: In this case, I would have more chances to get to know you better. Maybe we will exchange the Amour arrows in our life soon.\n"
     ]
    }
   ],
   "source": [
    "print(summary_text)"
   ]
  },
  {
   "cell_type": "code",
   "execution_count": 14,
   "metadata": {},
   "outputs": [],
   "source": [
    "a = \"\"\"The way they treat service staff\n",
    "The way someone treats people who work in retail, food service, and hospitality tells me\n",
    "pretty much everything I need to know about them. Why? Because when you’re dealing\n",
    "with service staff, you’re in a position of power. An employee almost always has to be\n",
    "nice to you because “the customer is always right.”\n",
    "If you treat these people poorly, it shows you have low integrity, empathy, and even selfrespect,\n",
    "because someone with self-respect never has to act as if they’re above anyone.\n",
    "How polite they are\n",
    "People often point out how “polite” I am, and it’s so strange to me. It’s shocking to find\n",
    "out how rare it is for people to have basic manners. That’s why whenever I meet a person\n",
    "who says “please” and “thank you” often, I know I’m dealing with someone who’s\n",
    "socially intelligent. You can make someone’s day, reduce friction during interactions,\n",
    "and move through life much more easily by saying those simple words.\n",
    "How they walk\n",
    "When Barack Obama walks into a room, he has a palpable sense of confidence: He’s\n",
    "simultaneously friendly, powerful, and attention-grabbing, though he’s never seeking\n",
    "validation. When I see this type of swagger in others, I’m captivated.\n",
    "I learned a useful trick from The Art of Charm called the “doorway technique.” Basically,\n",
    "you “anchor” confident body language to something you commonly see during the day,\n",
    "like a doorway. Each time you walk through the doorway, you’ll know to check your\n",
    "body language. Are you standing up straight or are you slouching your shoulders? Are\n",
    "you walking with a bit of pep in your step or are you dragging your feet?\"\"\""
   ]
  },
  {
   "cell_type": "code",
   "execution_count": 15,
   "metadata": {},
   "outputs": [],
   "source": [
    "a_summary_text = summarization(a)[0]['summary_text']"
   ]
  },
  {
   "cell_type": "code",
   "execution_count": 16,
   "metadata": {},
   "outputs": [
    {
     "name": "stdout",
     "output_type": "stream",
     "text": [
      " The way someone treats people who work in retail, food service, and hospitality tells me everything I need to know about them . An employee almost always has to be nice to you because “the customer is always right” If you treat these people poorly, it shows you have low integrity, empathy, and even selfrespect .\n"
     ]
    }
   ],
   "source": [
    "print(a_summary_text)"
   ]
  }
 ],
 "metadata": {
  "kernelspec": {
   "display_name": "Python 3",
   "language": "python",
   "name": "python3"
  },
  "language_info": {
   "codemirror_mode": {
    "name": "ipython",
    "version": 3
   },
   "file_extension": ".py",
   "mimetype": "text/x-python",
   "name": "python",
   "nbconvert_exporter": "python",
   "pygments_lexer": "ipython3",
   "version": "3.8.3"
  }
 },
 "nbformat": 4,
 "nbformat_minor": 4
}
